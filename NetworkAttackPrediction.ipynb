{
 "cells": [
  {
   "cell_type": "markdown",
   "metadata": {},
   "source": [
    "# KAGGLE CONTEST"
   ]
  },
  {
   "cell_type": "markdown",
   "metadata": {},
   "source": [
    "**Team Name: BruteForce**                           \n",
    "**Team Leader: Mollika Garg**                           \n",
    "**Email Id: mollika.garg@gmail.com**\n",
    "\n",
    "**Team Member: Pratyksha Gupta**                \n",
    "**Email Id: gpratyksha@gmail.com**"
   ]
  },
  {
   "cell_type": "markdown",
   "metadata": {},
   "source": [
    "### PROJECT DETAILS"
   ]
  },
  {
   "cell_type": "markdown",
   "metadata": {},
   "source": [
    "**Domain: Machine Learning**                                              \n",
    "**Project Name: Network Attacks Prediction**   "
   ]
  },
  {
   "cell_type": "markdown",
   "metadata": {},
   "source": [
    "### PROJECT DESCRIPTION\n",
    "This is a multi-class classification problem. The dataset contains 41 feature columns and 1 label column. The task is to classify the data into 5 types of network attacks, namely:-\n",
    "ipsweep probe,\n",
    "back dos,\n",
    "satan probe,\n",
    "portsweep probe and\n",
    "normal"
   ]
  },
  {
   "cell_type": "code",
   "execution_count": 1,
   "metadata": {},
   "outputs": [],
   "source": [
    "##IMPORTS\n",
    "\n",
    "# scientific and vector computation for python\n",
    "import numpy as np\n",
    "\n",
    "# used to analyze data\n",
    "import pandas as pd\n",
    "\n",
    "# for image visualisation\n",
    "from matplotlib import pyplot as plt\n",
    "\n",
    "# used to spilt data into training and testing\n",
    "from sklearn.model_selection import train_test_split\n",
    "\n",
    "# encode target labels \n",
    "from sklearn.preprocessing import LabelEncoder\n",
    "\n",
    "# to find the error\n",
    "from sklearn.metrics import accuracy_score\n",
    "\n",
    "# used for training Logistic Regression\n",
    "from sklearn.linear_model import LogisticRegression\n",
    "\n",
    "# used for training SVM\n",
    "from sklearn.svm import SVC\n",
    "\n",
    "# used for training Random Forest\n",
    "from sklearn.ensemble import RandomForestClassifier\n",
    "\n",
    "# used for training Gradient Boost Clasifier\n",
    "from sklearn.ensemble import GradientBoostingClassifier"
   ]
  },
  {
   "cell_type": "markdown",
   "metadata": {},
   "source": [
    "### READING DATA"
   ]
  },
  {
   "cell_type": "code",
   "execution_count": 2,
   "metadata": {},
   "outputs": [],
   "source": [
    "## Read Data\n",
    "\n",
    "data=pd.read_csv('C:\\\\Users\\\\molli\\\\Downloads\\\\train.csv\\\\train.csv')\n",
    "test=pd.read_csv('C:\\\\Users\\\\molli\\\\Downloads\\\\test.csv')"
   ]
  },
  {
   "cell_type": "code",
   "execution_count": 3,
   "metadata": {},
   "outputs": [
    {
     "data": {
      "text/html": [
       "<div>\n",
       "<style scoped>\n",
       "    .dataframe tbody tr th:only-of-type {\n",
       "        vertical-align: middle;\n",
       "    }\n",
       "\n",
       "    .dataframe tbody tr th {\n",
       "        vertical-align: top;\n",
       "    }\n",
       "\n",
       "    .dataframe thead th {\n",
       "        text-align: right;\n",
       "    }\n",
       "</style>\n",
       "<table border=\"1\" class=\"dataframe\">\n",
       "  <thead>\n",
       "    <tr style=\"text-align: right;\">\n",
       "      <th></th>\n",
       "      <th>Id</th>\n",
       "      <th>duration</th>\n",
       "      <th>protocol_type</th>\n",
       "      <th>service</th>\n",
       "      <th>flag</th>\n",
       "      <th>src_bytes</th>\n",
       "      <th>dst_bytes</th>\n",
       "      <th>land</th>\n",
       "      <th>wrong_fragment</th>\n",
       "      <th>urgent</th>\n",
       "      <th>...</th>\n",
       "      <th>dst_host_srv_count</th>\n",
       "      <th>dst_host_same_srv_rate</th>\n",
       "      <th>dst_host_diff_srv_rate</th>\n",
       "      <th>dst_host_same_src_port_rate</th>\n",
       "      <th>dst_host_srv_diff_host_rate</th>\n",
       "      <th>dst_host_serror_rate</th>\n",
       "      <th>dst_host_srv_serror_rate</th>\n",
       "      <th>dst_host_rerror_rate</th>\n",
       "      <th>dst_host_srv_rerror_rate</th>\n",
       "      <th>type_of_attack</th>\n",
       "    </tr>\n",
       "  </thead>\n",
       "  <tbody>\n",
       "    <tr>\n",
       "      <th>0</th>\n",
       "      <td>1</td>\n",
       "      <td>0</td>\n",
       "      <td>tcp</td>\n",
       "      <td>other</td>\n",
       "      <td>REJ</td>\n",
       "      <td>0</td>\n",
       "      <td>0</td>\n",
       "      <td>0</td>\n",
       "      <td>0</td>\n",
       "      <td>0</td>\n",
       "      <td>...</td>\n",
       "      <td>1</td>\n",
       "      <td>0.0</td>\n",
       "      <td>1.0</td>\n",
       "      <td>0.00</td>\n",
       "      <td>0.00</td>\n",
       "      <td>0.00</td>\n",
       "      <td>0.0</td>\n",
       "      <td>1.00</td>\n",
       "      <td>1.00</td>\n",
       "      <td>satan.</td>\n",
       "    </tr>\n",
       "    <tr>\n",
       "      <th>1</th>\n",
       "      <td>2</td>\n",
       "      <td>0</td>\n",
       "      <td>tcp</td>\n",
       "      <td>http</td>\n",
       "      <td>SF</td>\n",
       "      <td>54540</td>\n",
       "      <td>8314</td>\n",
       "      <td>0</td>\n",
       "      <td>0</td>\n",
       "      <td>0</td>\n",
       "      <td>...</td>\n",
       "      <td>178</td>\n",
       "      <td>1.0</td>\n",
       "      <td>0.0</td>\n",
       "      <td>0.01</td>\n",
       "      <td>0.00</td>\n",
       "      <td>0.00</td>\n",
       "      <td>0.0</td>\n",
       "      <td>0.01</td>\n",
       "      <td>0.01</td>\n",
       "      <td>back.</td>\n",
       "    </tr>\n",
       "    <tr>\n",
       "      <th>2</th>\n",
       "      <td>3</td>\n",
       "      <td>0</td>\n",
       "      <td>tcp</td>\n",
       "      <td>other</td>\n",
       "      <td>REJ</td>\n",
       "      <td>0</td>\n",
       "      <td>0</td>\n",
       "      <td>0</td>\n",
       "      <td>0</td>\n",
       "      <td>0</td>\n",
       "      <td>...</td>\n",
       "      <td>1</td>\n",
       "      <td>0.0</td>\n",
       "      <td>1.0</td>\n",
       "      <td>0.00</td>\n",
       "      <td>0.00</td>\n",
       "      <td>0.00</td>\n",
       "      <td>0.0</td>\n",
       "      <td>1.00</td>\n",
       "      <td>1.00</td>\n",
       "      <td>satan.</td>\n",
       "    </tr>\n",
       "    <tr>\n",
       "      <th>3</th>\n",
       "      <td>4</td>\n",
       "      <td>0</td>\n",
       "      <td>icmp</td>\n",
       "      <td>eco_i</td>\n",
       "      <td>SF</td>\n",
       "      <td>8</td>\n",
       "      <td>0</td>\n",
       "      <td>0</td>\n",
       "      <td>0</td>\n",
       "      <td>0</td>\n",
       "      <td>...</td>\n",
       "      <td>86</td>\n",
       "      <td>1.0</td>\n",
       "      <td>0.0</td>\n",
       "      <td>1.00</td>\n",
       "      <td>0.51</td>\n",
       "      <td>0.00</td>\n",
       "      <td>0.0</td>\n",
       "      <td>0.00</td>\n",
       "      <td>0.00</td>\n",
       "      <td>ipsweep.</td>\n",
       "    </tr>\n",
       "    <tr>\n",
       "      <th>4</th>\n",
       "      <td>5</td>\n",
       "      <td>0</td>\n",
       "      <td>tcp</td>\n",
       "      <td>other</td>\n",
       "      <td>REJ</td>\n",
       "      <td>0</td>\n",
       "      <td>0</td>\n",
       "      <td>0</td>\n",
       "      <td>0</td>\n",
       "      <td>0</td>\n",
       "      <td>...</td>\n",
       "      <td>1</td>\n",
       "      <td>0.0</td>\n",
       "      <td>1.0</td>\n",
       "      <td>0.00</td>\n",
       "      <td>0.00</td>\n",
       "      <td>0.07</td>\n",
       "      <td>0.0</td>\n",
       "      <td>0.93</td>\n",
       "      <td>1.00</td>\n",
       "      <td>satan.</td>\n",
       "    </tr>\n",
       "  </tbody>\n",
       "</table>\n",
       "<p>5 rows × 43 columns</p>\n",
       "</div>"
      ],
      "text/plain": [
       "   Id  duration protocol_type service flag  src_bytes  dst_bytes  land  \\\n",
       "0   1         0           tcp   other  REJ          0          0     0   \n",
       "1   2         0           tcp    http   SF      54540       8314     0   \n",
       "2   3         0           tcp   other  REJ          0          0     0   \n",
       "3   4         0          icmp   eco_i   SF          8          0     0   \n",
       "4   5         0           tcp   other  REJ          0          0     0   \n",
       "\n",
       "   wrong_fragment  urgent  ...  dst_host_srv_count  dst_host_same_srv_rate  \\\n",
       "0               0       0  ...                   1                     0.0   \n",
       "1               0       0  ...                 178                     1.0   \n",
       "2               0       0  ...                   1                     0.0   \n",
       "3               0       0  ...                  86                     1.0   \n",
       "4               0       0  ...                   1                     0.0   \n",
       "\n",
       "   dst_host_diff_srv_rate  dst_host_same_src_port_rate  \\\n",
       "0                     1.0                         0.00   \n",
       "1                     0.0                         0.01   \n",
       "2                     1.0                         0.00   \n",
       "3                     0.0                         1.00   \n",
       "4                     1.0                         0.00   \n",
       "\n",
       "   dst_host_srv_diff_host_rate  dst_host_serror_rate  \\\n",
       "0                         0.00                  0.00   \n",
       "1                         0.00                  0.00   \n",
       "2                         0.00                  0.00   \n",
       "3                         0.51                  0.00   \n",
       "4                         0.00                  0.07   \n",
       "\n",
       "   dst_host_srv_serror_rate  dst_host_rerror_rate  dst_host_srv_rerror_rate  \\\n",
       "0                       0.0                  1.00                      1.00   \n",
       "1                       0.0                  0.01                      0.01   \n",
       "2                       0.0                  1.00                      1.00   \n",
       "3                       0.0                  0.00                      0.00   \n",
       "4                       0.0                  0.93                      1.00   \n",
       "\n",
       "   type_of_attack  \n",
       "0          satan.  \n",
       "1           back.  \n",
       "2          satan.  \n",
       "3        ipsweep.  \n",
       "4          satan.  \n",
       "\n",
       "[5 rows x 43 columns]"
      ]
     },
     "execution_count": 3,
     "metadata": {},
     "output_type": "execute_result"
    }
   ],
   "source": [
    "## Displaying head of data\n",
    "\n",
    "data.head()"
   ]
  },
  {
   "cell_type": "code",
   "execution_count": 4,
   "metadata": {},
   "outputs": [],
   "source": [
    "## Encoding training and testing labels for protocol type\n",
    "\n",
    "label_encoder = LabelEncoder()\n",
    "data['protocol_type']= label_encoder.fit_transform(data['protocol_type'])\n",
    "test['protocol_type']= label_encoder.transform(test['protocol_type'])"
   ]
  },
  {
   "cell_type": "code",
   "execution_count": 5,
   "metadata": {},
   "outputs": [],
   "source": [
    "## Encoding training and testing labels for flag\n",
    "\n",
    "label_encoder1 = LabelEncoder()\n",
    "data3=data.append(test)\n",
    "data3['flag']= label_encoder1.fit(data3['flag'].astype(str))\n",
    "data['flag']= label_encoder1.transform(data['flag'].astype(str))\n",
    "test['flag']= label_encoder1.transform(test['flag'].astype(str))"
   ]
  },
  {
   "cell_type": "code",
   "execution_count": 6,
   "metadata": {},
   "outputs": [],
   "source": [
    "## Encoding training and testing labels for service\n",
    "\n",
    "label_encoder2=LabelEncoder()\n",
    "data['service']=label_encoder2.fit_transform(data['service'])\n",
    "test.loc[test[\"service\"]==\"aol\",\"service\"]=\"other\"\n",
    "test.loc[test[\"service\"]==\"harvest\",\"service\"]=\"other\"\n",
    "test['service']=label_encoder2.transform(test['service'])"
   ]
  },
  {
   "cell_type": "code",
   "execution_count": 7,
   "metadata": {},
   "outputs": [],
   "source": [
    "## Encoding training and testing labels for type of attack\n",
    "\n",
    "lmap={\"ipsweep.\":0,\"satan.\":1,\"portsweep.\":2,\"back.\":3,\"normal.\":4}\n",
    "data[\"type_of_attack\"]=data[\"type_of_attack\"].map(lmap)"
   ]
  },
  {
   "cell_type": "code",
   "execution_count": 8,
   "metadata": {},
   "outputs": [],
   "source": [
    "## Storing y labels and dropping coloumn type of attack\n",
    "\n",
    "Y=data[\"type_of_attack\"]\n",
    "X=data.drop([\"type_of_attack\"],axis=1)"
   ]
  },
  {
   "cell_type": "markdown",
   "metadata": {},
   "source": [
    "### Training The Data and Chosing the Best Hyperparameters"
   ]
  },
  {
   "cell_type": "markdown",
   "metadata": {},
   "source": [
    "#### 1) Logistic Regression"
   ]
  },
  {
   "cell_type": "code",
   "execution_count": 9,
   "metadata": {},
   "outputs": [
    {
     "name": "stdout",
     "output_type": "stream",
     "text": [
      "['ipsweep.', 'ipsweep.', 'ipsweep.', 'ipsweep.', 'ipsweep.', 'normal.', 'satan.', 'ipsweep.', 'satan.', 'ipsweep.', 'portsweep.', 'normal.', 'back.', 'portsweep.', 'ipsweep.', 'satan.', 'satan.', 'ipsweep.', 'ipsweep.', 'ipsweep.']\n"
     ]
    },
    {
     "name": "stderr",
     "output_type": "stream",
     "text": [
      "C:\\Users\\molli\\anaconda3\\lib\\site-packages\\sklearn\\linear_model\\_logistic.py:762: ConvergenceWarning: lbfgs failed to converge (status=1):\n",
      "STOP: TOTAL NO. of f AND g EVALUATIONS EXCEEDS LIMIT.\n",
      "\n",
      "Increase the number of iterations (max_iter) or scale the data as shown in:\n",
      "    https://scikit-learn.org/stable/modules/preprocessing.html\n",
      "Please also refer to the documentation for alternative solver options:\n",
      "    https://scikit-learn.org/stable/modules/linear_model.html#logistic-regression\n",
      "  n_iter_i = _check_optimize_result(\n"
     ]
    }
   ],
   "source": [
    "log_reg = LogisticRegression(max_iter = 1200000,class_weight=\"balanced\")\n",
    "log_reg.fit(X,Y)\n",
    "y_pred = log_reg.predict(test.astype(np.float))\n",
    "y_predtrans=[]\n",
    "lmap={0:\"ipsweep.\",1:\"satan.\",2:\"portsweep.\",3:\"back.\",4:\"normal.\"}\n",
    "for i in range(len(y_pred)):\n",
    "    y_predtrans.append(lmap[int(y_pred[i])])\n",
    "print(y_predtrans[:20])\n"
   ]
  },
  {
   "cell_type": "code",
   "execution_count": 10,
   "metadata": {},
   "outputs": [],
   "source": [
    "## Storing csv file\n",
    "\n",
    "Id= test['Id']\n",
    "dict = {'Id': Id, 'type_of_attack': y_predtrans}     \n",
    "df = pd.DataFrame(dict)  \n",
    "df.to_csv('file11.csv')"
   ]
  },
  {
   "cell_type": "markdown",
   "metadata": {},
   "source": [
    "#### 2) Random Forest"
   ]
  },
  {
   "cell_type": "code",
   "execution_count": 11,
   "metadata": {},
   "outputs": [
    {
     "name": "stdout",
     "output_type": "stream",
     "text": [
      "['ipsweep.', 'ipsweep.', 'ipsweep.', 'ipsweep.', 'ipsweep.', 'normal.', 'satan.', 'ipsweep.', 'satan.', 'ipsweep.', 'portsweep.', 'normal.', 'back.', 'portsweep.', 'ipsweep.', 'satan.', 'satan.', 'ipsweep.', 'ipsweep.', 'ipsweep.']\n"
     ]
    }
   ],
   "source": [
    "rf = RandomForestClassifier(n_estimators=50)\n",
    "rf = rf.fit(X,Y)\n",
    "y_pred1 = rf.predict(test)\n",
    "y_predtrans1=[]\n",
    "lmap={0:\"ipsweep.\",1:\"satan.\",2:\"portsweep.\",3:\"back.\",4:\"normal.\"}\n",
    "for i in range(len(y_pred1)):\n",
    "    y_predtrans1.append(lmap[int(y_pred1[i])])\n",
    "print(y_predtrans1[:20])"
   ]
  },
  {
   "cell_type": "code",
   "execution_count": 12,
   "metadata": {},
   "outputs": [],
   "source": [
    "## Saving the dataframe\n",
    "\n",
    "dict = {'Id': Id, 'type_of_attack': y_predtrans1}      \n",
    "df = pd.DataFrame(dict)\n",
    "df.to_csv('file12.csv')"
   ]
  },
  {
   "cell_type": "markdown",
   "metadata": {},
   "source": [
    "#### 2) Gradient Boosting Classifier"
   ]
  },
  {
   "cell_type": "code",
   "execution_count": 13,
   "metadata": {},
   "outputs": [
    {
     "name": "stdout",
     "output_type": "stream",
     "text": [
      "['ipsweep.', 'ipsweep.', 'ipsweep.', 'ipsweep.', 'ipsweep.', 'normal.', 'satan.', 'ipsweep.', 'satan.', 'ipsweep.', 'portsweep.', 'normal.', 'back.', 'portsweep.', 'ipsweep.', 'satan.', 'satan.', 'ipsweep.', 'ipsweep.', 'ipsweep.']\n"
     ]
    }
   ],
   "source": [
    "clf = GradientBoostingClassifier(n_estimators=100, learning_rate=0.1,max_depth=3)\n",
    "clf.fit(X,Y)\n",
    "y_pred2 = clf.predict(test)\n",
    "y_predtrans2=[]\n",
    "lmap={0:\"ipsweep.\",1:\"satan.\",2:\"portsweep.\",3:\"back.\",4:\"normal.\"}\n",
    "for i in range(len(y_pred2)):\n",
    "    y_predtrans2.append(lmap[int(y_pred2[i])])\n",
    "print(y_predtrans2[:20])"
   ]
  },
  {
   "cell_type": "code",
   "execution_count": 14,
   "metadata": {},
   "outputs": [],
   "source": [
    "# Saving the dataframe\n",
    "\n",
    "dict = {'Id': Id, 'type_of_attack': y_predtrans2}     \n",
    "df = pd.DataFrame(dict)  \n",
    "df.to_csv('file13.csv')"
   ]
  },
  {
   "cell_type": "markdown",
   "metadata": {},
   "source": [
    "### Conclusion\n",
    "We tried a differnet types of models. We tried Logistic Regression, Random Forest and Gradient Boosting Classifier. In the end we found that, the data trained on Random Forest give the best testing result with an accuracy of 99.9%"
   ]
  }
 ],
 "metadata": {
  "kernelspec": {
   "display_name": "Python 3",
   "language": "python",
   "name": "python3"
  },
  "language_info": {
   "codemirror_mode": {
    "name": "ipython",
    "version": 3
   },
   "file_extension": ".py",
   "mimetype": "text/x-python",
   "name": "python",
   "nbconvert_exporter": "python",
   "pygments_lexer": "ipython3",
   "version": "3.8.5"
  }
 },
 "nbformat": 4,
 "nbformat_minor": 4
}
