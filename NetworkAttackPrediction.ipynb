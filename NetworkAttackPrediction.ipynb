{
 "cells": [
  {
   "cell_type": "code",
   "execution_count": 465,
   "metadata": {},
   "outputs": [],
   "source": [
    "##IMPORTS\n",
    "import numpy as np\n",
    "import pandas as pd\n",
    "import seaborn as sns\n",
    "from matplotlib import pyplot as plt\n",
    "from matplotlib.pyplot import figure\n",
    "from sklearn.linear_model import LogisticRegression\n",
    "from sklearn.model_selection import train_test_split\n",
    "from sklearn.metrics import confusion_matrix\n",
    "from sklearn.datasets import make_classification\n",
    "from sklearn.preprocessing import LabelEncoder\n",
    "from sklearn.preprocessing import MinMaxScaler\n",
    "from sklearn.svm import SVC\n",
    "from sklearn.metrics import accuracy_score"
   ]
  },
  {
   "cell_type": "code",
   "execution_count": 447,
   "metadata": {},
   "outputs": [],
   "source": [
    "##READ DATA\n",
    "data=pd.read_csv('C:\\\\Users\\\\molli\\\\Downloads\\\\train.csv\\\\train.csv')"
   ]
  },
  {
   "cell_type": "code",
   "execution_count": 448,
   "metadata": {},
   "outputs": [
    {
     "data": {
      "text/html": [
       "<div>\n",
       "<style scoped>\n",
       "    .dataframe tbody tr th:only-of-type {\n",
       "        vertical-align: middle;\n",
       "    }\n",
       "\n",
       "    .dataframe tbody tr th {\n",
       "        vertical-align: top;\n",
       "    }\n",
       "\n",
       "    .dataframe thead th {\n",
       "        text-align: right;\n",
       "    }\n",
       "</style>\n",
       "<table border=\"1\" class=\"dataframe\">\n",
       "  <thead>\n",
       "    <tr style=\"text-align: right;\">\n",
       "      <th></th>\n",
       "      <th>Id</th>\n",
       "      <th>duration</th>\n",
       "      <th>protocol_type</th>\n",
       "      <th>service</th>\n",
       "      <th>flag</th>\n",
       "      <th>src_bytes</th>\n",
       "      <th>dst_bytes</th>\n",
       "      <th>land</th>\n",
       "      <th>wrong_fragment</th>\n",
       "      <th>urgent</th>\n",
       "      <th>...</th>\n",
       "      <th>dst_host_srv_count</th>\n",
       "      <th>dst_host_same_srv_rate</th>\n",
       "      <th>dst_host_diff_srv_rate</th>\n",
       "      <th>dst_host_same_src_port_rate</th>\n",
       "      <th>dst_host_srv_diff_host_rate</th>\n",
       "      <th>dst_host_serror_rate</th>\n",
       "      <th>dst_host_srv_serror_rate</th>\n",
       "      <th>dst_host_rerror_rate</th>\n",
       "      <th>dst_host_srv_rerror_rate</th>\n",
       "      <th>type_of_attack</th>\n",
       "    </tr>\n",
       "  </thead>\n",
       "  <tbody>\n",
       "    <tr>\n",
       "      <th>0</th>\n",
       "      <td>1</td>\n",
       "      <td>0</td>\n",
       "      <td>tcp</td>\n",
       "      <td>other</td>\n",
       "      <td>REJ</td>\n",
       "      <td>0</td>\n",
       "      <td>0</td>\n",
       "      <td>0</td>\n",
       "      <td>0</td>\n",
       "      <td>0</td>\n",
       "      <td>...</td>\n",
       "      <td>1</td>\n",
       "      <td>0.0</td>\n",
       "      <td>1.0</td>\n",
       "      <td>0.00</td>\n",
       "      <td>0.00</td>\n",
       "      <td>0.00</td>\n",
       "      <td>0.0</td>\n",
       "      <td>1.00</td>\n",
       "      <td>1.00</td>\n",
       "      <td>satan.</td>\n",
       "    </tr>\n",
       "    <tr>\n",
       "      <th>1</th>\n",
       "      <td>2</td>\n",
       "      <td>0</td>\n",
       "      <td>tcp</td>\n",
       "      <td>http</td>\n",
       "      <td>SF</td>\n",
       "      <td>54540</td>\n",
       "      <td>8314</td>\n",
       "      <td>0</td>\n",
       "      <td>0</td>\n",
       "      <td>0</td>\n",
       "      <td>...</td>\n",
       "      <td>178</td>\n",
       "      <td>1.0</td>\n",
       "      <td>0.0</td>\n",
       "      <td>0.01</td>\n",
       "      <td>0.00</td>\n",
       "      <td>0.00</td>\n",
       "      <td>0.0</td>\n",
       "      <td>0.01</td>\n",
       "      <td>0.01</td>\n",
       "      <td>back.</td>\n",
       "    </tr>\n",
       "    <tr>\n",
       "      <th>2</th>\n",
       "      <td>3</td>\n",
       "      <td>0</td>\n",
       "      <td>tcp</td>\n",
       "      <td>other</td>\n",
       "      <td>REJ</td>\n",
       "      <td>0</td>\n",
       "      <td>0</td>\n",
       "      <td>0</td>\n",
       "      <td>0</td>\n",
       "      <td>0</td>\n",
       "      <td>...</td>\n",
       "      <td>1</td>\n",
       "      <td>0.0</td>\n",
       "      <td>1.0</td>\n",
       "      <td>0.00</td>\n",
       "      <td>0.00</td>\n",
       "      <td>0.00</td>\n",
       "      <td>0.0</td>\n",
       "      <td>1.00</td>\n",
       "      <td>1.00</td>\n",
       "      <td>satan.</td>\n",
       "    </tr>\n",
       "    <tr>\n",
       "      <th>3</th>\n",
       "      <td>4</td>\n",
       "      <td>0</td>\n",
       "      <td>icmp</td>\n",
       "      <td>eco_i</td>\n",
       "      <td>SF</td>\n",
       "      <td>8</td>\n",
       "      <td>0</td>\n",
       "      <td>0</td>\n",
       "      <td>0</td>\n",
       "      <td>0</td>\n",
       "      <td>...</td>\n",
       "      <td>86</td>\n",
       "      <td>1.0</td>\n",
       "      <td>0.0</td>\n",
       "      <td>1.00</td>\n",
       "      <td>0.51</td>\n",
       "      <td>0.00</td>\n",
       "      <td>0.0</td>\n",
       "      <td>0.00</td>\n",
       "      <td>0.00</td>\n",
       "      <td>ipsweep.</td>\n",
       "    </tr>\n",
       "    <tr>\n",
       "      <th>4</th>\n",
       "      <td>5</td>\n",
       "      <td>0</td>\n",
       "      <td>tcp</td>\n",
       "      <td>other</td>\n",
       "      <td>REJ</td>\n",
       "      <td>0</td>\n",
       "      <td>0</td>\n",
       "      <td>0</td>\n",
       "      <td>0</td>\n",
       "      <td>0</td>\n",
       "      <td>...</td>\n",
       "      <td>1</td>\n",
       "      <td>0.0</td>\n",
       "      <td>1.0</td>\n",
       "      <td>0.00</td>\n",
       "      <td>0.00</td>\n",
       "      <td>0.07</td>\n",
       "      <td>0.0</td>\n",
       "      <td>0.93</td>\n",
       "      <td>1.00</td>\n",
       "      <td>satan.</td>\n",
       "    </tr>\n",
       "  </tbody>\n",
       "</table>\n",
       "<p>5 rows × 43 columns</p>\n",
       "</div>"
      ],
      "text/plain": [
       "   Id  duration protocol_type service flag  src_bytes  dst_bytes  land  \\\n",
       "0   1         0           tcp   other  REJ          0          0     0   \n",
       "1   2         0           tcp    http   SF      54540       8314     0   \n",
       "2   3         0           tcp   other  REJ          0          0     0   \n",
       "3   4         0          icmp   eco_i   SF          8          0     0   \n",
       "4   5         0           tcp   other  REJ          0          0     0   \n",
       "\n",
       "   wrong_fragment  urgent  ...  dst_host_srv_count  dst_host_same_srv_rate  \\\n",
       "0               0       0  ...                   1                     0.0   \n",
       "1               0       0  ...                 178                     1.0   \n",
       "2               0       0  ...                   1                     0.0   \n",
       "3               0       0  ...                  86                     1.0   \n",
       "4               0       0  ...                   1                     0.0   \n",
       "\n",
       "   dst_host_diff_srv_rate  dst_host_same_src_port_rate  \\\n",
       "0                     1.0                         0.00   \n",
       "1                     0.0                         0.01   \n",
       "2                     1.0                         0.00   \n",
       "3                     0.0                         1.00   \n",
       "4                     1.0                         0.00   \n",
       "\n",
       "   dst_host_srv_diff_host_rate  dst_host_serror_rate  \\\n",
       "0                         0.00                  0.00   \n",
       "1                         0.00                  0.00   \n",
       "2                         0.00                  0.00   \n",
       "3                         0.51                  0.00   \n",
       "4                         0.00                  0.07   \n",
       "\n",
       "   dst_host_srv_serror_rate  dst_host_rerror_rate  dst_host_srv_rerror_rate  \\\n",
       "0                       0.0                  1.00                      1.00   \n",
       "1                       0.0                  0.01                      0.01   \n",
       "2                       0.0                  1.00                      1.00   \n",
       "3                       0.0                  0.00                      0.00   \n",
       "4                       0.0                  0.93                      1.00   \n",
       "\n",
       "   type_of_attack  \n",
       "0          satan.  \n",
       "1           back.  \n",
       "2          satan.  \n",
       "3        ipsweep.  \n",
       "4          satan.  \n",
       "\n",
       "[5 rows x 43 columns]"
      ]
     },
     "execution_count": 448,
     "metadata": {},
     "output_type": "execute_result"
    }
   ],
   "source": [
    "data.head()"
   ]
  },
  {
   "cell_type": "code",
   "execution_count": 449,
   "metadata": {},
   "outputs": [],
   "source": [
    "test=pd.read_csv('C:\\\\Users\\\\molli\\\\Downloads\\\\test.csv')"
   ]
  },
  {
   "cell_type": "code",
   "execution_count": 450,
   "metadata": {},
   "outputs": [],
   "source": [
    "label_encoder = LabelEncoder()\n",
    "data['protocol_type']= label_encoder.fit_transform(data['protocol_type'])\n",
    "test['protocol_type']= label_encoder.transform(test['protocol_type'])"
   ]
  },
  {
   "cell_type": "code",
   "execution_count": 451,
   "metadata": {},
   "outputs": [],
   "source": [
    "label_encoder1 = LabelEncoder()\n",
    "data3=data.append(test)\n",
    "data3['flag']= label_encoder1.fit(data3['flag'].astype(str))\n",
    "data['flag']= label_encoder1.transform(data['flag'].astype(str))\n",
    "test['flag']= label_encoder1.transform(test['flag'].astype(str))"
   ]
  },
  {
   "cell_type": "code",
   "execution_count": 452,
   "metadata": {
    "scrolled": true
   },
   "outputs": [
    {
     "data": {
      "text/plain": [
       "ipsweep.      5318\n",
       "satan.        3711\n",
       "portsweep.    1999\n",
       "back.         1400\n",
       "normal.        561\n",
       "Name: type_of_attack, dtype: int64"
      ]
     },
     "execution_count": 452,
     "metadata": {},
     "output_type": "execute_result"
    }
   ],
   "source": [
    "data[\"type_of_attack\"].value_counts()"
   ]
  },
  {
   "cell_type": "code",
   "execution_count": 453,
   "metadata": {},
   "outputs": [
    {
     "data": {
      "text/plain": [
       "eco_i        4663\n",
       "other        3400\n",
       "private      2592\n",
       "http         1971\n",
       "ftp_data       33\n",
       "             ... \n",
       "X11             1\n",
       "Z39_50          1\n",
       "http_2784       1\n",
       "iso_tsap        1\n",
       "nnsp            1\n",
       "Name: service, Length: 61, dtype: int64"
      ]
     },
     "execution_count": 453,
     "metadata": {},
     "output_type": "execute_result"
    }
   ],
   "source": [
    "data[\"service\"].value_counts()"
   ]
  },
  {
   "cell_type": "code",
   "execution_count": 454,
   "metadata": {},
   "outputs": [],
   "source": [
    "lmap={\"ipsweep.\":0,\"satan.\":1,\"portsweep.\":2,\"back.\":3,\"normal.\":4}\n",
    "data[\"type_of_attack\"]=data[\"type_of_attack\"].map(lmap)"
   ]
  },
  {
   "cell_type": "code",
   "execution_count": 455,
   "metadata": {},
   "outputs": [],
   "source": [
    "label_encoder2=LabelEncoder()\n",
    "data['service']=label_encoder2.fit_transform(data['service'])\n",
    "test.loc[test[\"service\"]==\"aol\",\"service\"]=\"other\"\n",
    "test.loc[test[\"service\"]==\"harvest\",\"service\"]=\"other\"\n",
    "test['service']=label_encoder2.transform(test['service'])\n"
   ]
  },
  {
   "cell_type": "code",
   "execution_count": 456,
   "metadata": {},
   "outputs": [],
   "source": [
    "Y=data[\"type_of_attack\"]\n",
    "X=data.drop([\"type_of_attack\"],axis=1)"
   ]
  },
  {
   "cell_type": "code",
   "execution_count": 247,
   "metadata": {},
   "outputs": [
    {
     "name": "stderr",
     "output_type": "stream",
     "text": [
      "C:\\Users\\molli\\anaconda3\\lib\\site-packages\\sklearn\\linear_model\\_logistic.py:762: ConvergenceWarning: lbfgs failed to converge (status=1):\n",
      "STOP: TOTAL NO. of f AND g EVALUATIONS EXCEEDS LIMIT.\n",
      "\n",
      "Increase the number of iterations (max_iter) or scale the data as shown in:\n",
      "    https://scikit-learn.org/stable/modules/preprocessing.html\n",
      "Please also refer to the documentation for alternative solver options:\n",
      "    https://scikit-learn.org/stable/modules/linear_model.html#logistic-regression\n",
      "  n_iter_i = _check_optimize_result(\n"
     ]
    },
    {
     "data": {
      "text/plain": [
       "LogisticRegression(class_weight='balanced', max_iter=1200000)"
      ]
     },
     "execution_count": 247,
     "metadata": {},
     "output_type": "execute_result"
    }
   ],
   "source": [
    "log_reg = LogisticRegression(max_iter = 1200000,class_weight=\"balanced\")\n",
    "log_reg.fit(X,Y)"
   ]
  },
  {
   "cell_type": "code",
   "execution_count": 248,
   "metadata": {},
   "outputs": [
    {
     "name": "stdout",
     "output_type": "stream",
     "text": [
      "Accuracy 1.0\n"
     ]
    }
   ],
   "source": [
    "\n",
    "print(\"Accuracy\",(log_reg.score(X,Y)))"
   ]
  },
  {
   "cell_type": "code",
   "execution_count": 260,
   "metadata": {},
   "outputs": [
    {
     "name": "stdout",
     "output_type": "stream",
     "text": [
      "0          1\n",
      "1          2\n",
      "2          3\n",
      "3          4\n",
      "4          5\n",
      "        ... \n",
      "5562    5563\n",
      "5563    5564\n",
      "5564    5565\n",
      "5565    5566\n",
      "5566    5567\n",
      "Name: Id, Length: 5567, dtype: int64\n"
     ]
    }
   ],
   "source": [
    "Id= test['Id']\n",
    "print(Id)"
   ]
  },
  {
   "cell_type": "code",
   "execution_count": 353,
   "metadata": {},
   "outputs": [],
   "source": [
    "#test=sc.transform(test)\n",
    "y_pred = log_reg.predict(test.astype(np.float))\n",
    "y_predtrans=[]"
   ]
  },
  {
   "cell_type": "code",
   "execution_count": 251,
   "metadata": {},
   "outputs": [
    {
     "name": "stdout",
     "output_type": "stream",
     "text": [
      "['ipsweep.', 'ipsweep.', 'ipsweep.', 'ipsweep.', 'ipsweep.', 'normal.', 'satan.', 'ipsweep.', 'satan.', 'ipsweep.', 'portsweep.', 'normal.', 'back.', 'portsweep.', 'ipsweep.', 'satan.', 'satan.', 'ipsweep.', 'ipsweep.', 'ipsweep.']\n"
     ]
    }
   ],
   "source": [
    "lmap={0:\"ipsweep.\",1:\"satan.\",2:\"portsweep.\",3:\"back.\",4:\"normal.\"}\n",
    "for i in range(len(y_pred)):\n",
    "    y_predtrans.append(lmap[int(y_pred[i])])\n",
    "print(y_predtrans[:20])"
   ]
  },
  {
   "cell_type": "code",
   "execution_count": 265,
   "metadata": {},
   "outputs": [],
   "source": [
    "dict = {'Id': Id, 'type_of_attack': y_predtrans} \n",
    "     \n",
    "df = pd.DataFrame(dict)\n",
    "  \n",
    "# saving the dataframe\n",
    "df.to_csv('file11.csv')"
   ]
  },
  {
   "cell_type": "code",
   "execution_count": 364,
   "metadata": {},
   "outputs": [],
   "source": [
    "#x_train, x_test, y_train, y_test = train_test_split(data,Y,test_size = 0.33,random_state = 1) "
   ]
  },
  {
   "cell_type": "code",
   "execution_count": 396,
   "metadata": {},
   "outputs": [],
   "source": [
    "from sklearn.ensemble import RandomForestClassifier"
   ]
  },
  {
   "cell_type": "code",
   "execution_count": 397,
   "metadata": {},
   "outputs": [],
   "source": [
    "clf5 = RandomForestClassifier(n_estimators=50)\n",
    "clf5 = clf5.fit(X,Y)"
   ]
  },
  {
   "cell_type": "code",
   "execution_count": 398,
   "metadata": {},
   "outputs": [
    {
     "name": "stdout",
     "output_type": "stream",
     "text": [
      "Accuracy 1.0\n"
     ]
    }
   ],
   "source": [
    "pred5 = clf5.predict(X)\n",
    "print(\"Accuracy\",(clf5.score(X,Y)))"
   ]
  },
  {
   "cell_type": "code",
   "execution_count": 399,
   "metadata": {},
   "outputs": [],
   "source": [
    "#test=sc.transform(test)\n",
    "y_pred1 = clf5.predict(test)\n",
    "y_predtrans1=[]"
   ]
  },
  {
   "cell_type": "code",
   "execution_count": 400,
   "metadata": {},
   "outputs": [
    {
     "name": "stdout",
     "output_type": "stream",
     "text": [
      "['ipsweep.', 'ipsweep.', 'ipsweep.', 'ipsweep.', 'ipsweep.', 'normal.', 'satan.', 'ipsweep.', 'satan.', 'ipsweep.', 'portsweep.', 'normal.', 'back.', 'portsweep.', 'ipsweep.', 'satan.', 'satan.', 'ipsweep.', 'ipsweep.', 'ipsweep.']\n"
     ]
    }
   ],
   "source": [
    "lmap={0:\"ipsweep.\",1:\"satan.\",2:\"portsweep.\",3:\"back.\",4:\"normal.\"}\n",
    "for i in range(len(y_pred1)):\n",
    "    y_predtrans1.append(lmap[int(y_pred1[i])])\n",
    "print(y_predtrans1[:20])"
   ]
  },
  {
   "cell_type": "code",
   "execution_count": 401,
   "metadata": {},
   "outputs": [],
   "source": [
    "dict = {'Id': Id, 'type_of_attack': y_predtrans1} \n",
    "     \n",
    "df = pd.DataFrame(dict)\n",
    "  \n",
    "# saving the dataframe\n",
    "df.to_csv('file12.csv')"
   ]
  },
  {
   "cell_type": "code",
   "execution_count": 457,
   "metadata": {},
   "outputs": [],
   "source": [
    "from sklearn.ensemble import GradientBoostingClassifier"
   ]
  },
  {
   "cell_type": "code",
   "execution_count": 420,
   "metadata": {},
   "outputs": [],
   "source": [
    "clf6 = GradientBoostingClassifier(n_estimators=100, learning_rate=0.1,max_depth=3)"
   ]
  },
  {
   "cell_type": "code",
   "execution_count": 421,
   "metadata": {},
   "outputs": [
    {
     "data": {
      "text/plain": [
       "GradientBoostingClassifier()"
      ]
     },
     "execution_count": 421,
     "metadata": {},
     "output_type": "execute_result"
    }
   ],
   "source": [
    "clf6.fit(X,Y)"
   ]
  },
  {
   "cell_type": "code",
   "execution_count": 422,
   "metadata": {},
   "outputs": [],
   "source": [
    "pred6 = clf6.predict(X)"
   ]
  },
  {
   "cell_type": "code",
   "execution_count": 423,
   "metadata": {},
   "outputs": [
    {
     "name": "stdout",
     "output_type": "stream",
     "text": [
      "Accuracy 1.0\n"
     ]
    }
   ],
   "source": [
    "print(\"Accuracy\",(clf6.score(X,Y)))"
   ]
  },
  {
   "cell_type": "code",
   "execution_count": 424,
   "metadata": {},
   "outputs": [],
   "source": [
    "#test=sc.transform(test)\n",
    "y_pred2 = clf6.predict(test)\n",
    "y_predtrans2=[]"
   ]
  },
  {
   "cell_type": "code",
   "execution_count": 425,
   "metadata": {},
   "outputs": [
    {
     "name": "stdout",
     "output_type": "stream",
     "text": [
      "['ipsweep.', 'ipsweep.', 'ipsweep.', 'ipsweep.', 'ipsweep.', 'normal.', 'satan.', 'ipsweep.', 'satan.', 'ipsweep.', 'portsweep.', 'normal.', 'back.', 'portsweep.', 'ipsweep.', 'satan.', 'satan.', 'ipsweep.', 'ipsweep.', 'ipsweep.']\n"
     ]
    }
   ],
   "source": [
    "lmap={0:\"ipsweep.\",1:\"satan.\",2:\"portsweep.\",3:\"back.\",4:\"normal.\"}\n",
    "for i in range(len(y_pred2)):\n",
    "    y_predtrans2.append(lmap[int(y_pred2[i])])\n",
    "print(y_predtrans2[:20])"
   ]
  },
  {
   "cell_type": "code",
   "execution_count": 426,
   "metadata": {},
   "outputs": [],
   "source": [
    "dict = {'Id': Id, 'type_of_attack': y_predtrans2} \n",
    "     \n",
    "df = pd.DataFrame(dict)\n",
    "  \n",
    "# saving the dataframe\n",
    "df.to_csv('file13.csv')"
   ]
  }
 ],
 "metadata": {
  "kernelspec": {
   "display_name": "Python 3",
   "language": "python",
   "name": "python3"
  },
  "language_info": {
   "codemirror_mode": {
    "name": "ipython",
    "version": 3
   },
   "file_extension": ".py",
   "mimetype": "text/x-python",
   "name": "python",
   "nbconvert_exporter": "python",
   "pygments_lexer": "ipython3",
   "version": "3.8.5"
  }
 },
 "nbformat": 4,
 "nbformat_minor": 4
}
